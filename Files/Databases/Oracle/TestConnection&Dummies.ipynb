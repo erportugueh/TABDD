{
 "cells": [
  {
   "cell_type": "code",
   "execution_count": 7,
   "metadata": {},
   "outputs": [
    {
     "ename": "SyntaxError",
     "evalue": "invalid syntax (1223223437.py, line 1)",
     "output_type": "error",
     "traceback": [
      "\u001b[1;36m  Cell \u001b[1;32mIn[7], line 1\u001b[1;36m\u001b[0m\n\u001b[1;33m    python -m pip install cx_Oracle\u001b[0m\n\u001b[1;37m              ^\u001b[0m\n\u001b[1;31mSyntaxError\u001b[0m\u001b[1;31m:\u001b[0m invalid syntax\n"
     ]
    }
   ],
   "source": [
    "python -m pip install cx_Oracle"
   ]
  },
  {
   "cell_type": "code",
   "execution_count": null,
   "metadata": {},
   "outputs": [
    {
     "name": "stdout",
     "output_type": "stream",
     "text": [
      "Database connection error: DPI-1047: Cannot locate a 64-bit Oracle Client library: \"The specified module could not be found\". See https://cx-oracle.readthedocs.io/en/latest/user_guide/installation.html for help\n"
     ]
    }
   ],
   "source": [
    "import cx_Oracle\n",
    "\n",
    "# Connection parameters\n",
    "host = \"vsgate-s1.dei.isep.ipp.pt\"\n",
    "port = \"10434\"\n",
    "sid = \"xe\"\n",
    "\n",
    "# Construct DSN using SID\n",
    "dsn_tns = cx_Oracle.makedsn(host, port, sid=sid)\n",
    "\n",
    "# Credentials\n",
    "username = \"C##e_commerce\"  # Replace with your username\n",
    "password = \"qKCH1brdHfWtMFadWdbzWeMJS3rHDJ\"  # Replace with your password\n",
    "\n",
    "try:\n",
    "    # Connect to the database\n",
    "    connection = cx_Oracle.connect(user=username, password=password, dsn=dsn_tns)\n",
    "    print(\"Connection successful!\")\n",
    "\n",
    "    # Perform database operations here\n",
    "\n",
    "    # Close the connection\n",
    "    connection.close()\n",
    "\n",
    "except cx_Oracle.DatabaseError as e:\n",
    "    print(f\"Database connection error: {e}\")"
   ]
  },
  {
   "cell_type": "code",
   "execution_count": null,
   "metadata": {},
   "outputs": [],
   "source": [
    "insert_query = \"\"\"\n",
    "INSERT INTO Customers (\n",
    "    Name, Address, Postal_Code, NIF, Email, Account_ID, Password_Hash, GDPR_Terms, \n",
    "    Accepted_Date, Points_Balance, Last_Points_Redeemed_date, Status\n",
    ") \n",
    "VALUES (\n",
    "    :Name, :Address, :Postal_Code, :NIF, :Email, :Account_ID, :Password_Hash, :GDPR_Terms, \n",
    "    TO_DATE(:Accepted_Date, 'YYYY-MM-DD'), :Points_Balance, \n",
    "    TO_DATE(:Last_Points_Redeemed_date, 'YYYY-MM-DD'), :Status\n",
    ")\n",
    "\"\"\""
   ]
  },
  {
   "cell_type": "code",
   "execution_count": 6,
   "metadata": {},
   "outputs": [
    {
     "name": "stdout",
     "output_type": "stream",
     "text": [
      "Error occurred: DPI-1047: Cannot locate a 64-bit Oracle Client library: \"The specified module could not be found\". See https://cx-oracle.readthedocs.io/en/latest/user_guide/installation.html for help\n"
     ]
    },
    {
     "ename": "NameError",
     "evalue": "name 'cursor' is not defined",
     "output_type": "error",
     "traceback": [
      "\u001b[1;31m---------------------------------------------------------------------------\u001b[0m",
      "\u001b[1;31mNameError\u001b[0m                                 Traceback (most recent call last)",
      "Cell \u001b[1;32mIn[6], line 27\u001b[0m\n\u001b[0;32m     25\u001b[0m     \u001b[38;5;28mprint\u001b[39m(\u001b[38;5;124mf\u001b[39m\u001b[38;5;124m\"\u001b[39m\u001b[38;5;124mError occurred: \u001b[39m\u001b[38;5;132;01m{\u001b[39;00me\u001b[38;5;132;01m}\u001b[39;00m\u001b[38;5;124m\"\u001b[39m)\n\u001b[0;32m     26\u001b[0m \u001b[38;5;28;01mfinally\u001b[39;00m:\n\u001b[1;32m---> 27\u001b[0m     \u001b[38;5;28;01mif\u001b[39;00m \u001b[43mcursor\u001b[49m:\n\u001b[0;32m     28\u001b[0m         cursor\u001b[38;5;241m.\u001b[39mclose()\n\u001b[0;32m     29\u001b[0m     \u001b[38;5;28;01mif\u001b[39;00m connection:\n",
      "\u001b[1;31mNameError\u001b[0m: name 'cursor' is not defined"
     ]
    }
   ],
   "source": [
    "try:\n",
    "    dsn_tns = cx_Oracle.makedsn(\"host\", \"port\", service_name=\"service_name\")\n",
    "    connection = cx_Oracle.connect(user=\"username\", password=\"password\", dsn=dsn_tns)\n",
    "    cursor = connection.cursor()\n",
    "\n",
    "    for _, row in dummy_customers.iterrows():\n",
    "        cursor.execute(insert_query, {\n",
    "            \"Name\": row[\"Name\"],\n",
    "            \"Address\": row[\"Address\"],\n",
    "            \"Postal_Code\": row[\"Postal_Code\"],\n",
    "            \"NIF\": row[\"NIF\"],\n",
    "            \"Email\": row[\"Email\"],\n",
    "            \"Account_ID\": row[\"Account_ID\"],\n",
    "            \"Password_Hash\": row[\"Password_Hash\"],\n",
    "            \"GDPR_Terms\": row[\"GDPR_Terms\"],\n",
    "            \"Accepted_Date\": row[\"Accepted_Date\"].strftime(\"%Y-%m-%d\"),\n",
    "            \"Points_Balance\": row[\"Points_Balance\"],\n",
    "            \"Last_Points_Redeemed_date\": row[\"Last_Points_Redeemed_date\"].strftime(\"%Y-%m-%d\") if row[\"Last_Points_Redeemed_date\"] else None,\n",
    "            \"Status\": row[\"Status\"]\n",
    "        })\n",
    "    \n",
    "    connection.commit()\n",
    "    print(\"Data inserted successfully!\")\n",
    "except cx_Oracle.DatabaseError as e:\n",
    "    print(f\"Error occurred: {e}\")\n",
    "finally:\n",
    "    if cursor:\n",
    "        cursor.close()\n",
    "    if connection:\n",
    "        connection.close()\n"
   ]
  }
 ],
 "metadata": {
  "kernelspec": {
   "display_name": "Python 3",
   "language": "python",
   "name": "python3"
  },
  "language_info": {
   "codemirror_mode": {
    "name": "ipython",
    "version": 3
   },
   "file_extension": ".py",
   "mimetype": "text/x-python",
   "name": "python",
   "nbconvert_exporter": "python",
   "pygments_lexer": "ipython3",
   "version": "3.13.0"
  }
 },
 "nbformat": 4,
 "nbformat_minor": 2
}
